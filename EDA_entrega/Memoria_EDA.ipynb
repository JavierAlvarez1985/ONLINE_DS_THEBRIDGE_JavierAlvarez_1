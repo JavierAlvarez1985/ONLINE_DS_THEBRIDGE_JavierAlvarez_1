{
 "cells": [
  {
   "cell_type": "markdown",
   "id": "8dbe1223-1209-4a42-a6c5-495ffead3b12",
   "metadata": {},
   "source": [
    "# PROYECTO EDA"
   ]
  },
  {
   "cell_type": "markdown",
   "id": "95089f5e-1d72-4ccd-bf66-d15eb28c6d8e",
   "metadata": {},
   "source": [
    "## Fútbol de posesión, o no!"
   ]
  },
  {
   "cell_type": "markdown",
   "id": "c03a96f2-4f9b-434b-b166-f7e49b2da071",
   "metadata": {},
   "source": [
    "En este trabajo, he tratado de encontrar la influencia de la posesión de balón en el fútbol español para las últimas tres temporadas. Para ello he utilizado solamente datos de la web fbref.com que aporta documentación gratuita de la mayoría de ligas del mundo. Para descargar los datos he utilizado el web scraping con html, para volcarlos todos a un notebook, ya que la página tiene muchas tablas.  "
   ]
  },
  {
   "cell_type": "code",
   "execution_count": null,
   "id": "4f6dbed0-e268-4daa-9628-04edb88ab534",
   "metadata": {},
   "outputs": [],
   "source": [
    "df_1 = pd.read_html(\"https://fbref.com/es/comps/12/2020-2021/Estadisticas-2020-2021-La-Liga\")                               \n",
    "\n",
    "df_1_0 = df_1[0]"
   ]
  },
  {
   "cell_type": "markdown",
   "id": "d591ef36-2f27-46bd-b82a-dfd598d7c1d4",
   "metadata": {},
   "source": [
    "Una vez descargadas todas las tablas que necesito, he limpiado los dataframe y eliminado las columnas que no me hacían falta para mi análisis. Además, \n",
    "he creado dos columnas nuevas. El siguiente paso ha sido concatenar todas las tablas y visualizarlas, ordenandolas por clasificación en un principio y más adelante por la columna que fuese necesario.\n",
    "He creado una tabla descriptica y una de cardinalidad aunque esta última no me ha servido demasiado(algo he hecho mal).\n",
    "Para continuar, he sacado la media, mediana, algunos percentiles, el índice intercuantílico y los rangos de cada uno de los dataframe(3). También el coeficiente de variabilidad.\n"
   ]
  },
  {
   "cell_type": "code",
   "execution_count": null,
   "id": "b8131c78-e2b1-421c-8b27-159e242222ff",
   "metadata": {},
   "outputs": [],
   "source": [
    "df_liga20.describe().loc['mean']                                                                                         \n",
    "\n",
    "df_liga20.describe().loc['50%']                                                                                               \n",
    "\n",
    "print(\"Percentil mínimo: \", df_liga20['Posesion'].min())\n",
    "print(\"Percentil 10: \", df_liga20['Posesion'].quantile(0.1))\n",
    "print(\"Percentil 50: \", df_liga20['Posesion'].quantile(0.5))\n",
    "print(\"Percentil 90: \", df_liga20['Posesion'].quantile(0.9))\n",
    "print(\"Percentil 95: \", df_liga20['Posesion'].quantile(0.95))\n",
    "print(\"Percentil máximo: \", df_liga20['Posesion'].max())                                                                          \n",
    "\n",
    "def get_IQR(df, col):\n",
    "    return df[col].quantile(0.75) - df[col].quantile(0.25)"
   ]
  },
  {
   "cell_type": "markdown",
   "id": "7ef1d59f-67df-4036-8281-502a01c3dc57",
   "metadata": {},
   "source": [
    "He hecho un describe() de los dataframe y despues he comenzado con las visualizaciones de las variables, comenzado de manera individual por las que he creído mas inportantes.                                                                                                 "
   ]
  },
  {
   "cell_type": "code",
   "execution_count": null,
   "id": "3268e387-21b2-4c57-beaa-85ad4b1e6f80",
   "metadata": {},
   "outputs": [],
   "source": [
    "plot_combined_graphs(df_liga21, ['Posesion'], whisker_width = 4.5);"
   ]
  },
  {
   "cell_type": "markdown",
   "id": "71ee7d6c-bc38-4401-ab65-5eda04687ae4",
   "metadata": {},
   "source": [
    "Luego he seguido combinando variables según los datos me iban dando información"
   ]
  },
  {
   "cell_type": "code",
   "execution_count": null,
   "id": "5cf8c623-585b-45bf-884f-ff7a254f0c34",
   "metadata": {},
   "outputs": [],
   "source": [
    "plot_combined_graphs(df_liga20, ['GF', 'GC'], whisker_width = 4.5);"
   ]
  },
  {
   "cell_type": "markdown",
   "id": "c7e06274-c9da-4b21-a07c-48c670eda08d",
   "metadata": {},
   "source": [
    "Tambien he creado unos gráficos de densidad comprando variables para comprobar que la hipotesis establecida iba en lo cierto"
   ]
  },
  {
   "cell_type": "code",
   "execution_count": null,
   "id": "5621d6ce-99e9-4d67-8066-83adddada677",
   "metadata": {},
   "outputs": [],
   "source": [
    "sns.kdeplot(data=df_liga22, x=df_liga22['Posesion'], fill=True, label=df_liga22['Posesion']) \n",
    "sns.kdeplot(data=df_liga22, x=df_liga22['Pts'], fill=True, label=df_liga22['Pts'])  \n",
    "\n",
    "plt.xlabel('Posesión vs Puntos')\n",
    "plt.ylabel('Densidad')\n",
    "plt.title('Gráfico de densidad')\n",
    "\n",
    "# Muestra el gráfico\n",
    "plt.show()"
   ]
  },
  {
   "cell_type": "markdown",
   "id": "f553ed1f-aaab-4b81-b29c-1a8f1a784aae",
   "metadata": {},
   "source": [
    "He creado unos gráficos de barras horizontales porque creo que la visualización lateral con tantos valores(20) se apreciaba mejor."
   ]
  },
  {
   "cell_type": "code",
   "execution_count": null,
   "id": "6c6bde22-1561-43dd-a025-bbf9d36088b5",
   "metadata": {},
   "outputs": [],
   "source": [
    "plt.figure(figsize=(15,9))\n",
    "plt.barh(df_liga22.Equipo, df_liga22.Posesion)\n",
    "plt.title('Valor de la posesion por equipo', fontsize=15)\n",
    "plt.yticks(fontsize=13)\n",
    "plt.show()"
   ]
  },
  {
   "cell_type": "markdown",
   "id": "d1092b2a-34d9-41f6-8fc1-1d5a53986ad7",
   "metadata": {},
   "source": [
    "Y para terminar esta parte he sacado la tabla de correlación de todas las variables numericas"
   ]
  },
  {
   "cell_type": "markdown",
   "id": "90f9734c-09bb-48c8-9d72-c8d892e62078",
   "metadata": {},
   "source": [
    "He verificado con el coeficiente de correlación de Pearson que la hipotesis estaba en lo correcto"
   ]
  },
  {
   "cell_type": "markdown",
   "id": "2823404e-383c-404a-aded-49ba2c072d86",
   "metadata": {},
   "source": [
    "A la función del 'grafico de correlacion con dispersion' le he añadido los nombres de las variables en el gráfico para una mejor comprensión."
   ]
  },
  {
   "cell_type": "code",
   "execution_count": null,
   "id": "b65620e3-c5a3-450b-8f98-b14faea12506",
   "metadata": {},
   "outputs": [],
   "source": [
    "    plt.xlabel(columna_x)\n",
    "    plt.ylabel(columna_y)\n",
    "    for i in range(len(df)):\n",
    "        equipo = df['Equipo'].iloc[i]\n",
    "        plt.annotate(equipo, (df[columna_x].iloc[i], df[columna_y].iloc[i]),\n",
    "                     textcoords='offset points', xytext=(0, 3), ha='center')"
   ]
  },
  {
   "cell_type": "markdown",
   "id": "943c1b5b-6d3c-4dc7-a8f6-e4f865af5ceb",
   "metadata": {},
   "source": [
    "He sacado la matriz de correlación (heatmap) para los tres dataframe, los cuales me aportaron muchisima información y claridad. Además del Pairplot."
   ]
  },
  {
   "cell_type": "code",
   "execution_count": null,
   "id": "d8078423-2574-4f24-9084-454b930ee975",
   "metadata": {},
   "outputs": [],
   "source": [
    "plt.figure(figsize=(10, 8))\n",
    "sns.heatmap(matriz20, annot=True, fmt='.2f', cmap='coolwarm',\n",
    "            cbar=True, square=True, linewidths=.5)\n",
    "\n",
    "plt.title('Matriz de correlación')\n",
    "plt.xticks(rotation=45)\n",
    "plt.yticks(rotation=0)\n",
    "\n",
    "plt.show()"
   ]
  },
  {
   "cell_type": "markdown",
   "id": "f4f51c55-d8b2-45a9-a99b-4933a8ff1597",
   "metadata": {},
   "source": [
    "He utilizado la función bubble_plot, aunque también la he modificado para introducirle mas variables. Le he puesto que los puntos puedan agrandarse dependiendo de alguna columna, en este caso los puntos, también le he puesto una linea de progresión media en los valores y como antes el nombre de los valores(equipos) a cada punto."
   ]
  },
  {
   "cell_type": "markdown",
   "id": "fcb13fc6-548a-4e95-9318-f87648263b0c",
   "metadata": {},
   "source": [
    "Tambien me he importado la librería mplsoccer para graficar un campo de fútbol, aunque esta la he guardado para usarla en la portada de la presentación."
   ]
  },
  {
   "cell_type": "code",
   "execution_count": null,
   "id": "6c54da46-6165-487f-9a32-26af98d3d047",
   "metadata": {},
   "outputs": [],
   "source": [
    "from mplsoccer.pitch import Pitch\n",
    "\n",
    "pitch = Pitch(pitch_color='grass', line_color='white', stripe=True)\n",
    "fig, ax = pitch.draw()\n",
    "plt.savefig('campo.png')"
   ]
  },
  {
   "cell_type": "markdown",
   "id": "ab4795de-df21-43c2-970d-f87eaf491a6f",
   "metadata": {},
   "source": [
    "Por útlimo he creado dos nuevos gráficos, el primero uno simple de barras, para mostrar el PV y su aumento del mínimo a lo largo de las temporadas que se podrá ver también en la presentación. Y para terminar un gráfico de barras pero con una linea central entre el negativo y el positivo para poder mostrar la diferencia entre la posesión y el valor de la posesión que también se verá en la presentación."
   ]
  },
  {
   "cell_type": "code",
   "execution_count": null,
   "id": "58814f1c-5fba-46cd-bad5-989e863ff8a3",
   "metadata": {},
   "outputs": [],
   "source": [
    "df_liga22_sorted = df_liga22.sort_values('Clasificacion')\n",
    "\n",
    "# Crear el gráfico de barras\n",
    "plt.figure(figsize=(10, 6))\n",
    "sns.barplot(x='Equipo', y='PV', data=df_liga22_sorted)\n",
    "plt.xlabel('Equipos')\n",
    "plt.ylabel('PV')\n",
    "plt.title('PV de Equipos en la Liga Española (Ordenado por Clasificación)')\n",
    "plt.xticks(rotation=45, ha='right')\n",
    "plt.tight_layout()  \n",
    "plt.savefig('posesion_liga22.png')\n",
    "plt.show()"
   ]
  },
  {
   "cell_type": "code",
   "execution_count": null,
   "id": "9bf16a2b-6ea0-41a5-8457-f27414757d1e",
   "metadata": {},
   "outputs": [],
   "source": [
    "fig, ax = plt.subplots(figsize=(10, 6))\n",
    "\n",
    "colores = ['red' if valor < 0 else 'blue' for valor in df_liga20['Diferencia posesion']]\n",
    "\n",
    "bars = ax.bar(df_liga20.Equipo, df_liga20['Diferencia posesion'], color=colores)\n",
    "\n",
    "ax.axhline(y=0, color='black', linestyle='--', linewidth=1)\n",
    "\n",
    "ax.set_ylabel('Valores')\n",
    "ax.set_title('Diferencia entre posesión y PV')\n",
    "\n",
    "\n",
    "for bar, valor in zip(bars, df_liga20['Diferencia posesion']):\n",
    "    height = bar.get_height()\n",
    "    ax.annotate(f'{valor:.1f}', xy=(bar.get_x() + bar.get_width() / 2, height),\n",
    "                xytext=(0, 3) if valor >= 0 else (0, -15),\n",
    "                textcoords='offset points', ha='center', va='bottom' if valor >= 0 else 'top')\n",
    "plt.xticks(rotation=45)\n",
    "plt.savefig('diferencia_liga20.png')\n",
    "plt.show()"
   ]
  }
 ],
 "metadata": {
  "kernelspec": {
   "display_name": "Python 3 (ipykernel)",
   "language": "python",
   "name": "python3"
  },
  "language_info": {
   "codemirror_mode": {
    "name": "ipython",
    "version": 3
   },
   "file_extension": ".py",
   "mimetype": "text/x-python",
   "name": "python",
   "nbconvert_exporter": "python",
   "pygments_lexer": "ipython3",
   "version": "3.11.6"
  }
 },
 "nbformat": 4,
 "nbformat_minor": 5
}
